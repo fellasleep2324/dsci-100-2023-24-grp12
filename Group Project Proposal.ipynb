{
 "cells": [
  {
   "cell_type": "code",
   "execution_count": 24,
   "id": "114810ad-eb73-481b-abac-bcb2bdc8b0d1",
   "metadata": {
    "tags": []
   },
   "outputs": [],
   "source": [
    "library(tidyverse)\n",
    "library(tidymodels)\n",
    "library(RColorBrewer)\n",
    "library(repr)\n",
    "set.seed(999)"
   ]
  },
  {
   "cell_type": "markdown",
   "id": "59c673d9-3384-46b9-a8ee-2c890e4053a9",
   "metadata": {},
   "source": [
    "### Using Cholesterol, Fasting Blood Sugar, and Age to Classify Heart Disease Patients from Cleveland\n",
    "**Introduction**  \n",
    "\n",
    "Heart (cardiovascular) disease is a term displaying the wide range of heart conditions directly affecting the heart, associated blood vessels, and muscles surrounding the heart (Heart and Stroke Foundation Canada, n.d.). Such effects can result in long-term or short-term effects on the function of the heart itself, spreading to other internal organs. Amongst the range of “heart” diseases, coronary artery disease, commonly found in the United States, is where the patients' blood vessels are narrowed and constricts the amount of blood supplying the heart. There is a multitude of prospective factors that may influence the likelihood of developing coronary artery disease or any variant of cardiovascular disease, including but not limited to, fasting blood sugar, cholesterol, and age.\n",
    "\n",
    "Increased intake of cholesterol can build up inside of the blood vessels and restrict the flow to the heart, brain, lungs and kidneys (Centers for Disease Prevention and Control, 2022). Similarly, studies have observed and indicated fasting blood sugar as an underlying predictor of heart disease and the effects on the heart (National Library of Medicine, 2013). Additionally, the heart is considered a muscle and therefore weakens within aging. Older hearts rest at lower heart rates, which can lead to build up against the lining of the arteries, preventing blood pressure stabilization (Swiner, 2023).\n",
    "\n",
    "The objective of this project is to classify and categorize patients on their potential risk in developing heart disease.  \n",
    "\n",
    "The question we will be addressing is: **What is the likelihood of a patient at risk for heart disease based on their cholesterol, fasting blood sugar, and age?**"
   ]
  },
  {
   "cell_type": "code",
   "execution_count": 25,
   "id": "4c710bd3-4e3f-4f73-a4ca-dfa24983774e",
   "metadata": {
    "tags": []
   },
   "outputs": [
    {
     "name": "stderr",
     "output_type": "stream",
     "text": [
      "\u001b[1mRows: \u001b[22m\u001b[34m1025\u001b[39m \u001b[1mColumns: \u001b[22m\u001b[34m14\u001b[39m\n",
      "\u001b[36m──\u001b[39m \u001b[1mColumn specification\u001b[22m \u001b[36m────────────────────────────────────────────────────────\u001b[39m\n",
      "\u001b[1mDelimiter:\u001b[22m \",\"\n",
      "\u001b[32mdbl\u001b[39m (14): age, sex, cp, trestbps, chol, fbs, restecg, thalach, exang, oldpea...\n",
      "\n",
      "\u001b[36mℹ\u001b[39m Use `spec()` to retrieve the full column specification for this data.\n",
      "\u001b[36mℹ\u001b[39m Specify the column types or set `show_col_types = FALSE` to quiet this message.\n"
     ]
    },
    {
     "data": {
      "text/html": [
       "<table class=\"dataframe\">\n",
       "<caption>A tibble: 6 × 4</caption>\n",
       "<thead>\n",
       "\t<tr><th scope=col>age</th><th scope=col>fast_bs</th><th scope=col>cholesterol</th><th scope=col>heart_disease</th></tr>\n",
       "\t<tr><th scope=col>&lt;dbl&gt;</th><th scope=col>&lt;dbl&gt;</th><th scope=col>&lt;dbl&gt;</th><th scope=col>&lt;fct&gt;</th></tr>\n",
       "</thead>\n",
       "<tbody>\n",
       "\t<tr><td>52</td><td>0</td><td>212</td><td>No </td></tr>\n",
       "\t<tr><td>53</td><td>1</td><td>203</td><td>No </td></tr>\n",
       "\t<tr><td>70</td><td>0</td><td>174</td><td>No </td></tr>\n",
       "\t<tr><td>61</td><td>0</td><td>203</td><td>No </td></tr>\n",
       "\t<tr><td>62</td><td>1</td><td>294</td><td>No </td></tr>\n",
       "\t<tr><td>58</td><td>0</td><td>248</td><td>Yes</td></tr>\n",
       "</tbody>\n",
       "</table>\n"
      ],
      "text/latex": [
       "A tibble: 6 × 4\n",
       "\\begin{tabular}{llll}\n",
       " age & fast\\_bs & cholesterol & heart\\_disease\\\\\n",
       " <dbl> & <dbl> & <dbl> & <fct>\\\\\n",
       "\\hline\n",
       "\t 52 & 0 & 212 & No \\\\\n",
       "\t 53 & 1 & 203 & No \\\\\n",
       "\t 70 & 0 & 174 & No \\\\\n",
       "\t 61 & 0 & 203 & No \\\\\n",
       "\t 62 & 1 & 294 & No \\\\\n",
       "\t 58 & 0 & 248 & Yes\\\\\n",
       "\\end{tabular}\n"
      ],
      "text/markdown": [
       "\n",
       "A tibble: 6 × 4\n",
       "\n",
       "| age &lt;dbl&gt; | fast_bs &lt;dbl&gt; | cholesterol &lt;dbl&gt; | heart_disease &lt;fct&gt; |\n",
       "|---|---|---|---|\n",
       "| 52 | 0 | 212 | No  |\n",
       "| 53 | 1 | 203 | No  |\n",
       "| 70 | 0 | 174 | No  |\n",
       "| 61 | 0 | 203 | No  |\n",
       "| 62 | 1 | 294 | No  |\n",
       "| 58 | 0 | 248 | Yes |\n",
       "\n"
      ],
      "text/plain": [
       "  age fast_bs cholesterol heart_disease\n",
       "1 52  0       212         No           \n",
       "2 53  1       203         No           \n",
       "3 70  0       174         No           \n",
       "4 61  0       203         No           \n",
       "5 62  1       294         No           \n",
       "6 58  0       248         Yes          "
      ]
     },
     "metadata": {},
     "output_type": "display_data"
    }
   ],
   "source": [
    "# Below we have read in the heart_disease URL and tidied the data into a table of only \n",
    "# the columns we want to use. The column names and values in the heart_disease colunm \n",
    "# have been renamed for ease of understanding.\n",
    "\n",
    "heart_data <- read_csv(\"https://raw.githubusercontent.com/fellasleep2324/dsci-100-2023-24-grp12/main/heart.csv\") \n",
    "\n",
    "heart_tidy <- heart_data  |>\n",
    "select(age, fbs, chol, target) |> # age: age of the patient\n",
    "\n",
    "    rename(fast_bs = fbs, # fast_bs: fasting blood sugar 0 = < 120 mg/dL, 1 = > 120 mg/dL\n",
    "           cholesterol = chol, # cholesterol in mg/dL\n",
    "           heart_disease = target) |> # presence of heart disease\n",
    "\n",
    "    mutate(heart_disease = as_factor(heart_disease)) |>\n",
    "    mutate(heart_disease = fct_recode(heart_disease, \"Yes\" = \"1\", \"No\" = \"0\"))\n",
    "    \n",
    "head(heart_tidy)"
   ]
  },
  {
   "cell_type": "markdown",
   "id": "388d1c1c-7912-4354-9fe1-0790c4bb92cc",
   "metadata": {},
   "source": [
    "Then the tidy data is split into training and testing data sets. The percentage of total rows from heart_data has also been calculated using the training_heart set to confirm a correct splitting ratio."
   ]
  },
  {
   "cell_type": "code",
   "execution_count": 26,
   "id": "e2c31853-ec3f-46a3-a4d9-7ad3561f3b10",
   "metadata": {
    "tags": []
   },
   "outputs": [
    {
     "data": {
      "text/html": [
       "75"
      ],
      "text/latex": [
       "75"
      ],
      "text/markdown": [
       "75"
      ],
      "text/plain": [
       "[1] 75"
      ]
     },
     "metadata": {},
     "output_type": "display_data"
    }
   ],
   "source": [
    "heart_tidy_split <- initial_split(heart_tidy, props = 0.75, strata = heart_disease)\n",
    "training_heart <- training(heart_tidy_split)\n",
    "testing_heart <- testing(heart_tidy_split)\n",
    "\n",
    "split_percent <- round(nrow(training_heart)/ (nrow(training_heart) + nrow(testing_heart)) * 100)\n",
    "\n",
    "split_percent"
   ]
  },
  {
   "cell_type": "code",
   "execution_count": 27,
   "id": "4265ee1a-3fc8-4e23-9b11-a45e009f4681",
   "metadata": {
    "tags": []
   },
   "outputs": [
    {
     "data": {
      "text/html": [
       "<table class=\"dataframe\">\n",
       "<caption>A tibble: 2 × 3</caption>\n",
       "<thead>\n",
       "\t<tr><th scope=col>heart_disease</th><th scope=col>total</th><th scope=col>percentage_total</th></tr>\n",
       "\t<tr><th scope=col>&lt;fct&gt;</th><th scope=col>&lt;int&gt;</th><th scope=col>&lt;dbl&gt;</th></tr>\n",
       "</thead>\n",
       "<tbody>\n",
       "\t<tr><td>No </td><td>499</td><td>48.68</td></tr>\n",
       "\t<tr><td>Yes</td><td>526</td><td>51.32</td></tr>\n",
       "</tbody>\n",
       "</table>\n"
      ],
      "text/latex": [
       "A tibble: 2 × 3\n",
       "\\begin{tabular}{lll}\n",
       " heart\\_disease & total & percentage\\_total\\\\\n",
       " <fct> & <int> & <dbl>\\\\\n",
       "\\hline\n",
       "\t No  & 499 & 48.68\\\\\n",
       "\t Yes & 526 & 51.32\\\\\n",
       "\\end{tabular}\n"
      ],
      "text/markdown": [
       "\n",
       "A tibble: 2 × 3\n",
       "\n",
       "| heart_disease &lt;fct&gt; | total &lt;int&gt; | percentage_total &lt;dbl&gt; |\n",
       "|---|---|---|\n",
       "| No  | 499 | 48.68 |\n",
       "| Yes | 526 | 51.32 |\n",
       "\n"
      ],
      "text/plain": [
       "  heart_disease total percentage_total\n",
       "1 No            499   48.68           \n",
       "2 Yes           526   51.32           "
      ]
     },
     "metadata": {},
     "output_type": "display_data"
    },
    {
     "data": {
      "text/html": [
       "<table class=\"dataframe\">\n",
       "<caption>A tibble: 2 × 3</caption>\n",
       "<thead>\n",
       "\t<tr><th scope=col>heart_disease</th><th scope=col>total</th><th scope=col>percentage_training</th></tr>\n",
       "\t<tr><th scope=col>&lt;fct&gt;</th><th scope=col>&lt;int&gt;</th><th scope=col>&lt;dbl&gt;</th></tr>\n",
       "</thead>\n",
       "<tbody>\n",
       "\t<tr><td>No </td><td>374</td><td>48.7</td></tr>\n",
       "\t<tr><td>Yes</td><td>394</td><td>51.3</td></tr>\n",
       "</tbody>\n",
       "</table>\n"
      ],
      "text/latex": [
       "A tibble: 2 × 3\n",
       "\\begin{tabular}{lll}\n",
       " heart\\_disease & total & percentage\\_training\\\\\n",
       " <fct> & <int> & <dbl>\\\\\n",
       "\\hline\n",
       "\t No  & 374 & 48.7\\\\\n",
       "\t Yes & 394 & 51.3\\\\\n",
       "\\end{tabular}\n"
      ],
      "text/markdown": [
       "\n",
       "A tibble: 2 × 3\n",
       "\n",
       "| heart_disease &lt;fct&gt; | total &lt;int&gt; | percentage_training &lt;dbl&gt; |\n",
       "|---|---|---|\n",
       "| No  | 374 | 48.7 |\n",
       "| Yes | 394 | 51.3 |\n",
       "\n"
      ],
      "text/plain": [
       "  heart_disease total percentage_training\n",
       "1 No            374   48.7               \n",
       "2 Yes           394   51.3               "
      ]
     },
     "metadata": {},
     "output_type": "display_data"
    },
    {
     "data": {
      "text/html": [
       "<table class=\"dataframe\">\n",
       "<caption>A tibble: 2 × 3</caption>\n",
       "<thead>\n",
       "\t<tr><th scope=col>heart_disease</th><th scope=col>total</th><th scope=col>percentage_testing</th></tr>\n",
       "\t<tr><th scope=col>&lt;fct&gt;</th><th scope=col>&lt;int&gt;</th><th scope=col>&lt;dbl&gt;</th></tr>\n",
       "</thead>\n",
       "<tbody>\n",
       "\t<tr><td>No </td><td>125</td><td>48.64</td></tr>\n",
       "\t<tr><td>Yes</td><td>132</td><td>51.36</td></tr>\n",
       "</tbody>\n",
       "</table>\n"
      ],
      "text/latex": [
       "A tibble: 2 × 3\n",
       "\\begin{tabular}{lll}\n",
       " heart\\_disease & total & percentage\\_testing\\\\\n",
       " <fct> & <int> & <dbl>\\\\\n",
       "\\hline\n",
       "\t No  & 125 & 48.64\\\\\n",
       "\t Yes & 132 & 51.36\\\\\n",
       "\\end{tabular}\n"
      ],
      "text/markdown": [
       "\n",
       "A tibble: 2 × 3\n",
       "\n",
       "| heart_disease &lt;fct&gt; | total &lt;int&gt; | percentage_testing &lt;dbl&gt; |\n",
       "|---|---|---|\n",
       "| No  | 125 | 48.64 |\n",
       "| Yes | 132 | 51.36 |\n",
       "\n"
      ],
      "text/plain": [
       "  heart_disease total percentage_testing\n",
       "1 No            125   48.64             \n",
       "2 Yes           132   51.36             "
      ]
     },
     "metadata": {},
     "output_type": "display_data"
    }
   ],
   "source": [
    "# All three data sets, heart_data, training_heart and testing_heart are summarized and the \n",
    "# ratio of positive and negative values for the heart_disease column are calculated and\n",
    "# returned to ensure the split data sets are consistent with the original tidy data. \n",
    "\n",
    "num_obs_heart = nrow(heart_tidy)\n",
    "num_obs_training = nrow(training_heart)\n",
    "num_obs_testing = nrow(testing_heart)\n",
    "\n",
    "heart_data_percent <- heart_tidy |>\n",
    "    group_by(heart_disease) |>\n",
    "    summarize(total = n(),\n",
    "             percentage_total = round(n() / num_obs_heart * 100, 2))\n",
    "\n",
    "training_heart_percent <- training_heart |>\n",
    "    group_by(heart_disease) |>\n",
    "    summarize(total = n(),\n",
    "             percentage_training = round(n() / num_obs_training * 100, 2))\n",
    "\n",
    "testing_heart_percent <- testing_heart |>\n",
    "    group_by(heart_disease) |>\n",
    "    summarize(total = n(),\n",
    "             percentage_testing = round(n() / num_obs_testing * 100, 2))\n",
    "\n",
    "heart_data_percent\n",
    "training_heart_percent\n",
    "testing_heart_percent"
   ]
  },
  {
   "cell_type": "code",
   "execution_count": null,
   "id": "0f555016-1b98-4f24-9af8-8efb97611d51",
   "metadata": {
    "tags": []
   },
   "outputs": [],
   "source": [
    "# Below is some exploratory visualization. It shows there is a loose correlation between the age \n",
    "# of a patient and their cholesterol in determining the presence of heart disease.\n",
    "\n",
    "options(repr.plot.width = 10, repr.plot.height = 7)\n",
    "\n",
    "heart_disease_plot <- training_heart |>\n",
    "    ggplot(aes(x = age, y = cholesterol, color = heart_disease, shape = as_factor(fast_bs))) + \n",
    "        geom_point(alpha = 0.6) +\n",
    "        ggtitle(\"Age of Patient vs. Cholesterol Level on \\n the Presence of Heart Disease\") +\n",
    "        labs(x = \"Age of Patient\",\n",
    "             y = \"Cholesterol Level (mg/dL log10 scaled)\",\n",
    "             color = \"Presence of \\n Heart Disease\", \n",
    "             shape = \"Fasting Blood Sugar \\n (0 = < 120 mg/dL \\n 1 = > 120 mg/dL)\") +\n",
    "        scale_y_log10(labels = comma) +\n",
    "        scale_color_brewer(palette = \"Set2\") +\n",
    "        theme(text = element_text(size = 16),\n",
    "              legend.direction = \"vertical\")\n",
    "            \n",
    "heart_disease_plot"
   ]
  },
  {
   "cell_type": "markdown",
   "id": "e9fc3464-b827-4f5d-808f-fa375101360d",
   "metadata": {
    "tags": []
   },
   "source": [
    "**Methods**  \n",
    "We will analyze our data with the K – nearest neighbors classification algorithm, which predicts new observations given the K number of nearest neighbors and the category predictors. We will use cholesterol, fasting blood sugar, and age as our predictor variables to classify whether the patient is susceptible to heart disease (reasons stated in introduction). We will perform cross-validation, where the overall training dataset is split into a validation and training set, to estimate the current data’s ability to predict unseen data. Cross-validation is important because we can estimate using our available data, meaning no new patient observations are required, and it helps determine the value of K that reduces under/overfitting. Furthermore, we will investigate the classifiers performance based on its accuracy, precision, and recall to conclude if the classifier is useful.\n",
    "\n",
    "The points on the scatterplot will be colored according to the classification category. New data will be colored a different color from the categories to help recognize that it is unseen data and its nearest neighbors. "
   ]
  },
  {
   "cell_type": "markdown",
   "id": "4593f375-813d-438c-9a31-d243dc1442e3",
   "metadata": {
    "tags": []
   },
   "source": [
    "**Expected Outcomes and Significance**  \n",
    "\n",
    "Our expectation is that individuals who have been diagnosed with heart disease will, on average, exhibit higher levels of cholesterol, have low fasting blood sugar and tend to be older in age.  \n",
    "\n",
    "Creating a K - nearest neighbors classification system for heart disease can simplify and improve the accuracy of diagnosis by health care professionals. This can ultimately lead to timely intervention and treatment."
   ]
  }
 ],
 "metadata": {
  "kernelspec": {
   "display_name": "R",
   "language": "R",
   "name": "ir"
  },
  "language_info": {
   "codemirror_mode": "r",
   "file_extension": ".r",
   "mimetype": "text/x-r-source",
   "name": "R",
   "pygments_lexer": "r",
   "version": "4.2.2"
  }
 },
 "nbformat": 4,
 "nbformat_minor": 5
}
