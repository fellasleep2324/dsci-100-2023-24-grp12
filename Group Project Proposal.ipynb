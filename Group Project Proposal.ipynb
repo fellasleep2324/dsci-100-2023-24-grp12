{
 "cells": [
  {
   "cell_type": "code",
   "execution_count": 42,
   "id": "114810ad-eb73-481b-abac-bcb2bdc8b0d1",
   "metadata": {
    "tags": []
   },
   "outputs": [],
   "source": [
    "library(tidyverse)\n",
    "library(tidymodels)\n"
   ]
  },
  {
   "cell_type": "markdown",
   "id": "077e2172-7f87-4929-a769-3143fb775ec0",
   "metadata": {},
   "source": [
    "Columns: \n",
    "      1. #3  (age)       \n",
    "      2. #4  (sex)       \n",
    "      3. #9  (cp)        \n",
    "      4. #10 (trestbps)  \n",
    "      5. #12 (chol)      \n",
    "      6. #16 (fbs)       \n",
    "      7. #19 (restecg)   \n",
    "      8. #32 (thalach)   \n",
    "      9. #38 (exang)     \n",
    "      10. #40 (oldpeak)   \n",
    "      11. #41 (slope)     \n",
    "      12. #44 (ca)        \n",
    "      13. #51 (thal)      \n",
    "      14. #58 (num)       (the predicted attribute)\n",
    "      \n",
    "1. Age in years.\n",
    "2. Sex of Patient: 1 = Male 0 = Female\n",
    "3. CP:  chest pain type\n",
    "        -- Value 1: typical angina\n",
    "        -- Value 2: atypical angina\n",
    "        -- Value 3: non-anginal pain\n",
    "        -- Value 4: asymptomatic\n",
    "4. trestbps: resting blood pressure (in mm Hg on admission to the hospital)\n",
    "5. chol: serum cholestoral in mg/dl\n",
    "6. fbs: (fasting blood sugar > 120 mg/dl)  (1 = true; 0 = false)\n",
    "7. restecg: resting electrocardiographic results\n",
    "        -- Value 0: normal\n",
    "        -- Value 1: having ST-T wave abnormality (T wave inversions and/or ST elevation or depression of >              0.05 mV)\n",
    "        -- Value 2: showing probable or definite left ventricular hypertrophy by Estes' criteria\n",
    "8. thalach: maximum heart rate achieved\n",
    "9. exang: exercise induced angina (1 = yes; 0 = no)\n",
    "10. oldpeak = ST depression induced by exercise relative to rest\n",
    "11.  slope: the slope of the peak exercise ST segment\n",
    "        -- Value 1: upsloping\n",
    "        -- Value 2: flat\n",
    "        -- Value 3: downsloping\n",
    "12. ca: number of major vessels (0-3) colored by flourosopy\n",
    "13. thal: 3 = normal; 6 = fixed defect; 7 = reversable defect\n",
    "14.  num: diagnosis of heart disease (angiographic disease status)\n",
    "        -- Value 0: < 50% diameter narrowing\n",
    "        -- Value 1: > 50% diameter narrowing\n",
    "        (in any major vessel: attributes 59 through 68 are vessels)\n"
   ]
  },
  {
   "cell_type": "code",
   "execution_count": 65,
   "id": "4c710bd3-4e3f-4f73-a4ca-dfa24983774e",
   "metadata": {
    "tags": []
   },
   "outputs": [
    {
     "data": {
      "text/html": [
       "<table class=\"dataframe\">\n",
       "<caption>A tibble: 6 × 4</caption>\n",
       "<thead>\n",
       "\t<tr><th scope=col>chestpain</th><th scope=col>fast_bp</th><th scope=col>cholesterol</th><th scope=col>heart_disease</th></tr>\n",
       "\t<tr><th scope=col>&lt;int&gt;</th><th scope=col>&lt;int&gt;</th><th scope=col>&lt;int&gt;</th><th scope=col>&lt;fct&gt;</th></tr>\n",
       "</thead>\n",
       "<tbody>\n",
       "\t<tr><td>0</td><td>0</td><td>212</td><td>No </td></tr>\n",
       "\t<tr><td>0</td><td>1</td><td>203</td><td>No </td></tr>\n",
       "\t<tr><td>0</td><td>0</td><td>174</td><td>No </td></tr>\n",
       "\t<tr><td>0</td><td>0</td><td>203</td><td>No </td></tr>\n",
       "\t<tr><td>0</td><td>1</td><td>294</td><td>No </td></tr>\n",
       "\t<tr><td>0</td><td>0</td><td>248</td><td>Yes</td></tr>\n",
       "</tbody>\n",
       "</table>\n"
      ],
      "text/latex": [
       "A tibble: 6 × 4\n",
       "\\begin{tabular}{llll}\n",
       " chestpain & fast\\_bp & cholesterol & heart\\_disease\\\\\n",
       " <int> & <int> & <int> & <fct>\\\\\n",
       "\\hline\n",
       "\t 0 & 0 & 212 & No \\\\\n",
       "\t 0 & 1 & 203 & No \\\\\n",
       "\t 0 & 0 & 174 & No \\\\\n",
       "\t 0 & 0 & 203 & No \\\\\n",
       "\t 0 & 1 & 294 & No \\\\\n",
       "\t 0 & 0 & 248 & Yes\\\\\n",
       "\\end{tabular}\n"
      ],
      "text/markdown": [
       "\n",
       "A tibble: 6 × 4\n",
       "\n",
       "| chestpain &lt;int&gt; | fast_bp &lt;int&gt; | cholesterol &lt;int&gt; | heart_disease &lt;fct&gt; |\n",
       "|---|---|---|---|\n",
       "| 0 | 0 | 212 | No  |\n",
       "| 0 | 1 | 203 | No  |\n",
       "| 0 | 0 | 174 | No  |\n",
       "| 0 | 0 | 203 | No  |\n",
       "| 0 | 1 | 294 | No  |\n",
       "| 0 | 0 | 248 | Yes |\n",
       "\n"
      ],
      "text/plain": [
       "  chestpain fast_bp cholesterol heart_disease\n",
       "1 0         0       212         No           \n",
       "2 0         1       203         No           \n",
       "3 0         0       174         No           \n",
       "4 0         0       203         No           \n",
       "5 0         1       294         No           \n",
       "6 0         0       248         Yes          "
      ]
     },
     "metadata": {},
     "output_type": "display_data"
    }
   ],
   "source": [
    "heart_data <- as_tibble(read.csv(\"heart.csv\")) |>\n",
    "    select(cp, fbs, chol, target) |>\n",
    "\n",
    "    rename(chestpain = cp,\n",
    "           fast_bp = fbs,\n",
    "           cholesterol = chol, \n",
    "           heart_disease = target) |>\n",
    "\n",
    "    mutate(heart_disease = as_factor(heart_disease)) |>\n",
    "           #chestpain = as_character(chestpain)) #|>\n",
    "\n",
    "    mutate(heart_disease = fct_recode(heart_disease, \"Yes\" = \"1\", \"No\" = \"0\"))\n",
    "    \n",
    "head(heart_data)"
   ]
  },
  {
   "cell_type": "markdown",
   "id": "431670f0-e00b-415f-ade7-c91269d0e27c",
   "metadata": {},
   "source": [
    "The columns in the data frame represent the following:   \n",
    "chestpain: Chest Pain Type:    0 = None   \n",
    "                        1 = Typical Angina    \n",
    "                        2 = Atypical Angina   \n",
    "                        3 = Non-Angina Pain   \n",
    "                        4 = Asymptomatic (No values in the present table)  \n",
    "                        \n",
    "fasting_bp: Fasting blood sugar value in milligrams per deciliter (mg/dL) of blood.  \n",
    "                        0 = Below 120 mg/dL  \n",
    "                        1 = Above 120 mg/dL\n",
    "                            \n",
    "cholesterol: Serum Cholesterol in milligrams per deciliter (mg/dL) of blood. High cholesterol is considering to be over 240 mg/dL. \n",
    "\n",
    "heart_disease: Presence of heart disease in general.  \n",
    "                        0 = No  \n",
    "                        1 = Yes\n"
   ]
  },
  {
   "cell_type": "code",
   "execution_count": null,
   "id": "e2c31853-ec3f-46a3-a4d9-7ad3561f3b10",
   "metadata": {},
   "outputs": [],
   "source": []
  }
 ],
 "metadata": {
  "kernelspec": {
   "display_name": "R",
   "language": "R",
   "name": "ir"
  },
  "language_info": {
   "codemirror_mode": "r",
   "file_extension": ".r",
   "mimetype": "text/x-r-source",
   "name": "R",
   "pygments_lexer": "r",
   "version": "4.2.2"
  }
 },
 "nbformat": 4,
 "nbformat_minor": 5
}
